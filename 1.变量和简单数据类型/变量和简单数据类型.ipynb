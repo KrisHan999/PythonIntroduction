{
 "cells": [
  {
   "cell_type": "markdown",
   "metadata": {},
   "source": [
    "#### 字符串\n",
    "- 1.Python中，用引号引起的都是字符串，并没有字符串和字符的区别，单引号(')和双引号(\")的作用相同。\n",
    "- 2.字符串的相关函数：\n",
    "    - .title() #单词首字母大写\n",
    "    - .upper() #字符串改为大写\n",
    "    - .lower() #字符串改为小写\n",
    "- 3.添加空白\n",
    "    - /t #制表符\n",
    "    - /n #换行符\n",
    "- 4.删除空白\n",
    "    - .rstrip() #删掉尾部空白\n",
    "    - .lstrip() #删掉头部空白\n",
    "    - .strip() #删掉头部尾部空白\n",
    "- 5.判断是否包含另一个字符串\n",
    "    - if string_1 in string_2:"
   ]
  },
  {
   "cell_type": "code",
   "execution_count": 3,
   "metadata": {},
   "outputs": [
    {
     "name": "stdout",
     "output_type": "stream",
     "text": [
      "Kris Han\n"
     ]
    }
   ],
   "source": [
    "name = \"Kris\" + \" \" + \"Han\"\n",
    "print(name)"
   ]
  },
  {
   "cell_type": "code",
   "execution_count": 4,
   "metadata": {},
   "outputs": [
    {
     "data": {
      "text/plain": [
       "'kris han'"
      ]
     },
     "execution_count": 4,
     "metadata": {},
     "output_type": "execute_result"
    }
   ],
   "source": [
    "name.lower()"
   ]
  },
  {
   "cell_type": "code",
   "execution_count": 5,
   "metadata": {},
   "outputs": [
    {
     "data": {
      "text/plain": [
       "'KRIS HAN'"
      ]
     },
     "execution_count": 5,
     "metadata": {},
     "output_type": "execute_result"
    }
   ],
   "source": [
    "name.upper()"
   ]
  },
  {
   "cell_type": "code",
   "execution_count": 6,
   "metadata": {},
   "outputs": [
    {
     "data": {
      "text/plain": [
       "'Kris Han'"
      ]
     },
     "execution_count": 6,
     "metadata": {},
     "output_type": "execute_result"
    }
   ],
   "source": [
    "name.lower().title()"
   ]
  },
  {
   "cell_type": "code",
   "execution_count": 9,
   "metadata": {},
   "outputs": [
    {
     "name": "stdout",
     "output_type": "stream",
     "text": [
      "Kris Han\n",
      " Kris Han \n"
     ]
    }
   ],
   "source": [
    "new_name = \" \" + name + \" \"\n",
    "print(name)\n",
    "print(new_name)"
   ]
  },
  {
   "cell_type": "code",
   "execution_count": 10,
   "metadata": {},
   "outputs": [
    {
     "data": {
      "text/plain": [
       "'Kris Han'"
      ]
     },
     "execution_count": 10,
     "metadata": {},
     "output_type": "execute_result"
    }
   ],
   "source": [
    "new_name.strip()"
   ]
  },
  {
   "cell_type": "code",
   "execution_count": 11,
   "metadata": {},
   "outputs": [
    {
     "data": {
      "text/plain": [
       "'Kris Han '"
      ]
     },
     "execution_count": 11,
     "metadata": {},
     "output_type": "execute_result"
    }
   ],
   "source": [
    "new_name.lstrip()"
   ]
  },
  {
   "cell_type": "code",
   "execution_count": 12,
   "metadata": {},
   "outputs": [
    {
     "data": {
      "text/plain": [
       "' Kris Han'"
      ]
     },
     "execution_count": 12,
     "metadata": {},
     "output_type": "execute_result"
    }
   ],
   "source": [
    "new_name.rstrip()"
   ]
  },
  {
   "cell_type": "code",
   "execution_count": 1,
   "metadata": {},
   "outputs": [
    {
     "name": "stdout",
     "output_type": "stream",
     "text": [
      "String 2 is in String 1\n"
     ]
    }
   ],
   "source": [
    "String_1 = 'abcdefg'\n",
    "String_2 = 'efg'\n",
    "if String_2 in String_1:\n",
    "    print('String 2 is in String 1')"
   ]
  },
  {
   "cell_type": "markdown",
   "metadata": {},
   "source": [
    "#### 数字\n",
    "- 1.整数\n",
    "- 2.浮点数"
   ]
  },
  {
   "cell_type": "code",
   "execution_count": 13,
   "metadata": {},
   "outputs": [
    {
     "data": {
      "text/plain": [
       "9"
      ]
     },
     "execution_count": 13,
     "metadata": {},
     "output_type": "execute_result"
    }
   ],
   "source": [
    "#乘方运算\n",
    "3 ** 2"
   ]
  },
  {
   "cell_type": "code",
   "execution_count": 14,
   "metadata": {},
   "outputs": [
    {
     "data": {
      "text/plain": [
       "27"
      ]
     },
     "execution_count": 14,
     "metadata": {},
     "output_type": "execute_result"
    }
   ],
   "source": [
    "3 ** 3"
   ]
  },
  {
   "cell_type": "markdown",
   "metadata": {},
   "source": [
    "#### 字符串+数字+格式化输出\n",
    "- .str()\n",
    "    - print(\"今年是\" + str(2018) + \"年\")\n",
    "- .format()\n",
    "    - \"{} {}\".format(\"hello\", \"world\")\n",
    "    - [Python format格式化输出](http://www.runoob.com/python/att-string-format.html)\n",
    "- %s, %d, %f\n",
    "    - 'Hi, %s, you have $%d.' % ('Michael', 1000000)\n",
    "    - [字符串和编码](https://www.liaoxuefeng.com/wiki/0014316089557264a6b348958f449949df42a6d3a2e542c000/001431664106267f12e9bef7ee14cf6a8776a479bdec9b9000)"
   ]
  },
  {
   "cell_type": "code",
   "execution_count": 16,
   "metadata": {},
   "outputs": [
    {
     "name": "stdout",
     "output_type": "stream",
     "text": [
      "今年是2018年\n"
     ]
    }
   ],
   "source": [
    "print(\"今年是\" + str(2018) + \"年\")"
   ]
  },
  {
   "cell_type": "code",
   "execution_count": 17,
   "metadata": {},
   "outputs": [
    {
     "data": {
      "text/plain": [
       "'hello world'"
      ]
     },
     "execution_count": 17,
     "metadata": {},
     "output_type": "execute_result"
    }
   ],
   "source": [
    "\"{} {}\".format(\"hello\", \"world\")"
   ]
  },
  {
   "cell_type": "code",
   "execution_count": 18,
   "metadata": {},
   "outputs": [
    {
     "data": {
      "text/plain": [
       "'Hi, Michael, you have $1000000.'"
      ]
     },
     "execution_count": 18,
     "metadata": {},
     "output_type": "execute_result"
    }
   ],
   "source": [
    "'Hi, %s, you have $%d.' % ('Michael', 1000000)"
   ]
  },
  {
   "cell_type": "markdown",
   "metadata": {},
   "source": [
    "#### 特别注意有字典和列表参与的字符串格式化输出\n",
    "```\n",
    "# 通过字典设置参数 (**字典名, {}中要有相应的键值)\n",
    "site = {\"name\": \"菜鸟教程\", \"url\": \"www.runoob.com\"}\n",
    "print(\"网站名：{name}, 地址 {url}\".format(**site))\n",
    " \n",
    "# 通过列表索引设置参数\n",
    "my_list = ['菜鸟教程', 'www.runoob.com']\n",
    "print(\"网站名：{0[0]}, 地址 {0[1]}\".format(my_list))  # \"0\" 是必须的\n",
    "```"
   ]
  },
  {
   "cell_type": "code",
   "execution_count": 14,
   "metadata": {},
   "outputs": [
    {
     "name": "stdout",
     "output_type": "stream",
     "text": [
      "网站名：菜鸟教程, 地址 www.runoob.com\n"
     ]
    }
   ],
   "source": [
    "site = {\"name\": \"菜鸟教程\", \"url\": \"www.runoob.com\"}\n",
    "print(\"网站名：{name}, 地址 {url}\".format(**site))"
   ]
  },
  {
   "cell_type": "code",
   "execution_count": 8,
   "metadata": {},
   "outputs": [
    {
     "name": "stdout",
     "output_type": "stream",
     "text": [
      "网站名：菜鸟教程, 地址 www.runoob.com\n"
     ]
    }
   ],
   "source": [
    "my_list = ['菜鸟教程', 'www.runoob.com']\n",
    "print(\"网站名：{0[0]}, 地址 {0[1]}\".format(my_list))  # \"0\" 是必须的"
   ]
  },
  {
   "cell_type": "code",
   "execution_count": 24,
   "metadata": {},
   "outputs": [
    {
     "name": "stdout",
     "output_type": "stream",
     "text": [
      "网站名：菜鸟教程, 地址 www.runoob.com\n"
     ]
    }
   ],
   "source": [
    "print(\"网站名：{}, 地址 {}\".format(*my_list))  # \"0\" 是必须的"
   ]
  },
  {
   "cell_type": "markdown",
   "metadata": {},
   "source": [
    "### list_name, tuple_name前加\"*\"可以直接获得列表或者元组中的值，示例如下：\n",
    "### print字典中的value时，dic_name前加\"**\"，并且在\"{}\"中加键名，可以直接获得字典中的键值，示例如下："
   ]
  },
  {
   "cell_type": "code",
   "execution_count": 28,
   "metadata": {},
   "outputs": [
    {
     "name": "stdout",
     "output_type": "stream",
     "text": [
      "(0, 1, 2, 3)\n",
      "1, 2, 3\n"
     ]
    }
   ],
   "source": [
    "#元组实例\n",
    "tuple_1 = (1, 2, 3)\n",
    "tuple_2 = (0, *tuple_1)\n",
    "print(tuple_2)\n",
    "print(\"{}, {}, {}\".format(*tuple_1))"
   ]
  },
  {
   "cell_type": "code",
   "execution_count": 29,
   "metadata": {},
   "outputs": [
    {
     "name": "stdout",
     "output_type": "stream",
     "text": [
      "[0, 1, 2, 3]\n",
      "1, 2, 3\n"
     ]
    }
   ],
   "source": [
    "#列表实例\n",
    "list_1 = [1, 2, 3]\n",
    "list_2 = [0, *list_1]\n",
    "print(list_2)\n",
    "print(\"{}, {}, {}\".format(*list_1))"
   ]
  },
  {
   "cell_type": "code",
   "execution_count": 30,
   "metadata": {},
   "outputs": [
    {
     "name": "stdout",
     "output_type": "stream",
     "text": [
      "1, 2\n"
     ]
    }
   ],
   "source": [
    "#字典实例\n",
    "dic_1 = {\"ele_1\": 1, \"ele_2\": 2}\n",
    "print(\"{ele_1}, {ele_2}\".format(**dic_1))"
   ]
  }
 ],
 "metadata": {
  "kernelspec": {
   "display_name": "Python 3",
   "language": "python",
   "name": "python3"
  },
  "language_info": {
   "codemirror_mode": {
    "name": "ipython",
    "version": 3
   },
   "file_extension": ".py",
   "mimetype": "text/x-python",
   "name": "python",
   "nbconvert_exporter": "python",
   "pygments_lexer": "ipython3",
   "version": "3.6.6"
  }
 },
 "nbformat": 4,
 "nbformat_minor": 2
}
