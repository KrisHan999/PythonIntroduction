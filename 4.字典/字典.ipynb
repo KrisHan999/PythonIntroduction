{
 "cells": [
  {
   "cell_type": "markdown",
   "metadata": {},
   "source": [
    "### 字典\n",
    "\n",
    ">字典是一系列的键-值对。每个键都与一个值相关联，键名要唯一。字典中的顺序与键值对加入字典的顺序无关。\n",
    "\n",
    "```\n",
    "alien_0 = {'color': 'green', 'points': 5}\n",
    "```\n",
    "- **使用字典**\n",
    "    1. 访问字典中的值\n",
    "    ```\n",
    "    alien_0 = {'color': green}\n",
    "    print(alien_0['color'])\n",
    "    ```\n",
    "    2. 添加键值对， **需要注意的是键值对的排列顺序与添加顺序不同**\n",
    "    >字典是动态结构，如果要添加键值对，可以依次指定字典名、用方括号括起的键和相关联的值。\n",
    "    \n",
    "    ```\n",
    "    alien_0 = {'color': 'green', 'points': 5}\n",
    "    \n",
    "    alien_0['x_position'] = 0\n",
    "    alien_0['y_position'] = 0\n",
    "    print(alien_0)\n",
    "    ```\n",
    "    3. 创建字典\n",
    "    >先使用一对空括号{}定义一个字典，然后再分行添加键值对\n",
    "    \n",
    "    ```\n",
    "    alien_0 = {}\n",
    "    alien_0['color'] = 'green'\n",
    "    alien_0['points'] = 5\n",
    "    print(alien_0)\n",
    "    ```\n",
    "    4. 修改字典中的值：直接根据键名修改相应的值\n",
    "    ```\n",
    "    alien_0 = {'color': 'green', 'points': 5}\n",
    "    alien_0['color'] = red\n",
    "    print(alien_0)\n",
    "    ```\n",
    "    5. 删除键值对：使用关键字del\n",
    "    ```\n",
    "    alien_0 = {'color': 'green', 'points': 5}\n",
    "    print(alien_0)\n",
    "    del alien_0['points']\n",
    "    print(alien_0)\n",
    "    ```\n",
    "\n"
   ]
  },
  {
   "cell_type": "code",
   "execution_count": 1,
   "metadata": {},
   "outputs": [
    {
     "name": "stdout",
     "output_type": "stream",
     "text": [
      "{'color': 'green', 'points': 5, 'x_position': 0, 'y_position': 0}\n"
     ]
    }
   ],
   "source": [
    "alien_0 = {'color': 'green', 'points': 5}\n",
    "\n",
    "alien_0['x_position'] = 0\n",
    "alien_0['y_position'] = 0\n",
    "print(alien_0)"
   ]
  },
  {
   "cell_type": "code",
   "execution_count": 2,
   "metadata": {},
   "outputs": [
    {
     "name": "stdout",
     "output_type": "stream",
     "text": [
      "{'color': 'green', 'points': 5}\n",
      "{'color': 'green'}\n"
     ]
    }
   ],
   "source": [
    "alien_0 = {'color': 'green', 'points': 5}\n",
    "print(alien_0)\n",
    "del alien_0['points']\n",
    "print(alien_0)"
   ]
  },
  {
   "cell_type": "markdown",
   "metadata": {},
   "source": [
    "- **遍历字典**\n",
    "    1. for循环遍历所有的键值对，使用**.items()**方法\n",
    "    >dict_name.items()可以获得字典中的所有元素，得到dict_items类的实例\n",
    "    \n",
    "    ```\n",
    "    user_0 = {\n",
    "        'user_name': 'khan',\n",
    "        'first': Kris,\n",
    "        'last': Han,\n",
    "        }\n",
    "    for key, value in user_0.items():\n",
    "        print(\"\\nKey: \" + key)\n",
    "        print(\"Value: \" + value)\n",
    "    ```\n",
    "    \n",
    "    2. 遍历字典中的所有键，使用**.keys()**方法\n",
    "    >dict_name.keys()可以获得字典中的所有键，返回值相当一个**列表**\n",
    "    \n",
    "    ```\n",
    "    favorite_language = {\n",
    "        'jen': 'python',\n",
    "        'sarah': 'c',\n",
    "        'edward': 'ruby',\n",
    "        'phil': 'python'\n",
    "        }\n",
    "    for name in favorite_language.keys():\n",
    "        print(name)\n",
    "    ```\n",
    "    3. 按顺序遍历字典中的所有键，sorted(dict_name.keys())。**注意使用的是sorted()方法，而不是.sort()方法**\n",
    "    ```\n",
    "    favorite_language = {\n",
    "        'jen': 'python',\n",
    "        'sarah': 'c',\n",
    "        'edward': 'ruby',\n",
    "        'phil': 'python'\n",
    "        }\n",
    "    for name in sorted(favorite_language.keys()):\n",
    "        print(name)\n",
    "    ```\n",
    "    4. 遍历字典中所有的值，使用**.values()**方法\n",
    "    >dict_name.values()可以获得字典中的所有值，返回值相当于一个**列表**，但是其中可能有相同的元素，可以使用**set()**函数去除重复值\n",
    "    ```\n",
    "    favorite_language = {\n",
    "        'jen': 'python',\n",
    "        'sarah': 'c',\n",
    "        'edward': 'ruby',\n",
    "        'phil': 'python'\n",
    "        }\n",
    "    for language in set(favorite_language.values()):\n",
    "        print(language)\n",
    "    ```\n",
    "    "
   ]
  },
  {
   "cell_type": "code",
   "execution_count": 5,
   "metadata": {},
   "outputs": [
    {
     "name": "stdout",
     "output_type": "stream",
     "text": [
      "\n",
      "Key: user_name\n",
      "Value: khan\n",
      "\n",
      "Key: first\n",
      "Value: Kris\n",
      "\n",
      "Key: last\n",
      "Value: Han\n"
     ]
    }
   ],
   "source": [
    "#获得字典中的所有键值对\n",
    "user_0 = {\n",
    "    'user_name': 'khan',\n",
    "    'first': 'Kris',\n",
    "    'last': 'Han',\n",
    "    }\n",
    "for key, value in user_0.items():\n",
    "    print(\"\\nKey: \" + key)\n",
    "    print(\"Value: \" + value)"
   ]
  },
  {
   "cell_type": "code",
   "execution_count": 17,
   "metadata": {},
   "outputs": [
    {
     "name": "stdout",
     "output_type": "stream",
     "text": [
      "dict_items([('user_name', 'khan'), ('first', 'Kris'), ('last', 'Han')])\n",
      "<class 'dict_items'>\n"
     ]
    }
   ],
   "source": [
    "#查看.items()方法返回的元素类型\n",
    "print(user_0.items())\n",
    "print(type(user_0.items()))"
   ]
  },
  {
   "cell_type": "code",
   "execution_count": 18,
   "metadata": {},
   "outputs": [
    {
     "name": "stdout",
     "output_type": "stream",
     "text": [
      "jen\n",
      "sarah\n",
      "edward\n",
      "phil\n"
     ]
    }
   ],
   "source": [
    "#获得字典中所有键\n",
    "favorite_language = {\n",
    "    'jen': 'python',\n",
    "    'sarah': 'c',\n",
    "    'edward': 'ruby',\n",
    "    'phil': 'python'\n",
    "    }\n",
    "for name in favorite_language.keys():\n",
    "    print(name)"
   ]
  },
  {
   "cell_type": "code",
   "execution_count": 19,
   "metadata": {},
   "outputs": [
    {
     "name": "stdout",
     "output_type": "stream",
     "text": [
      "edward\n",
      "jen\n",
      "phil\n",
      "sarah\n"
     ]
    }
   ],
   "source": [
    "#按序获得字典中的所有键\n",
    "favorite_language = {\n",
    "    'jen': 'python',\n",
    "    'sarah': 'c',\n",
    "    'edward': 'ruby',\n",
    "    'phil': 'python'\n",
    "    }\n",
    "for name in sorted(favorite_language.keys()):\n",
    "    print(name)"
   ]
  },
  {
   "cell_type": "code",
   "execution_count": 20,
   "metadata": {},
   "outputs": [
    {
     "name": "stdout",
     "output_type": "stream",
     "text": [
      "python\n",
      "c\n",
      "ruby\n"
     ]
    }
   ],
   "source": [
    "#获得字典中的所有值，并通过set()函数去除重复值\n",
    "favorite_language = {\n",
    "    'jen': 'python',\n",
    "    'sarah': 'c',\n",
    "    'edward': 'ruby',\n",
    "    'phil': 'python'\n",
    "    }\n",
    "for language in set(favorite_language.values()):\n",
    "    print(language)"
   ]
  },
  {
   "cell_type": "markdown",
   "metadata": {},
   "source": [
    "- **嵌套**\n",
    "    - 字典存储在列表中\n",
    "    - 列表作为值存储在字典中\n",
    "    - 字典作为值存储在上一级字典中"
   ]
  },
  {
   "cell_type": "code",
   "execution_count": 22,
   "metadata": {},
   "outputs": [
    {
     "name": "stdout",
     "output_type": "stream",
     "text": [
      "{'color': 'green', 'points': 5}\n",
      "{'color': 'yellow', 'points': 0}\n",
      "{'color': 'red', 'points': 10}\n"
     ]
    }
   ],
   "source": [
    "#字典列表\n",
    "alien_0 = {'color': 'green', 'points': 5}\n",
    "alien_1 = {'color': 'yellow', 'points': 0}\n",
    "alien_2 = {'color': 'red', 'points': 10}\n",
    "\n",
    "aliens = [alien_0, alien_1, alien_2]\n",
    "\n",
    "for alien in aliens:\n",
    "    print(alien)"
   ]
  },
  {
   "cell_type": "code",
   "execution_count": 24,
   "metadata": {},
   "outputs": [
    {
     "name": "stdout",
     "output_type": "stream",
     "text": [
      "\n",
      "Jen's favorite languages are: \n",
      "\t Python\n",
      "\t Ruby\n",
      "\n",
      "Sarah's favorite languages are: \n",
      "\t C\n",
      "\n",
      "Edward's favorite languages are: \n",
      "\t Ruby\n",
      "\t Go\n",
      "\n",
      "Phil's favorite languages are: \n",
      "\t Python\n",
      "\t Haskell\n"
     ]
    }
   ],
   "source": [
    "#在字典中存储列表\n",
    "favorite_language = {\n",
    "    'jen': ['python', 'ruby'],\n",
    "    'sarah': ['c'],\n",
    "    'edward': ['ruby', 'go'],\n",
    "    'phil': ['python', 'haskell']\n",
    "    }\n",
    "\n",
    "for name, languages in favorite_language.items():\n",
    "    print(\"\\n{}'s favorite languages are: \".format(name.title()))\n",
    "    for language in languages:\n",
    "        print(\"\\t {}\".format(language.title()))"
   ]
  },
  {
   "cell_type": "code",
   "execution_count": 27,
   "metadata": {},
   "outputs": [
    {
     "name": "stdout",
     "output_type": "stream",
     "text": [
      "\n",
      "Username: aeinstein\n",
      "\tFull name: Albert Einstein\n",
      "\tLocation: princeton\n",
      "\n",
      "Username: mcurie\n",
      "\tFull name: Marie Curie\n",
      "\tLocation: paris\n"
     ]
    }
   ],
   "source": [
    "#在字典中存储字典\n",
    "users = {\n",
    "    'aeinstein': {\n",
    "        'first': 'albert',\n",
    "        'last': 'einstein',\n",
    "        'location': 'princeton'\n",
    "    },\n",
    "    \n",
    "    'mcurie' :{\n",
    "        'first': 'marie',\n",
    "        'last': 'curie',\n",
    "        'location': 'paris'\n",
    "    }\n",
    "}\n",
    "\n",
    "for user_name, user_info in users.items():\n",
    "    print(\"\\nUsername: {}\".format(user_name))\n",
    "    full_name = user_info['first'] + ' ' + user_info['last']\n",
    "    location = user_info['location']\n",
    "    \n",
    "    print(\"\\tFull name: {}\".format(full_name.title()))\n",
    "    print(\"\\tLocation: {}\".format(location))"
   ]
  }
 ],
 "metadata": {
  "kernelspec": {
   "display_name": "Python 3",
   "language": "python",
   "name": "python3"
  },
  "language_info": {
   "codemirror_mode": {
    "name": "ipython",
    "version": 3
   },
   "file_extension": ".py",
   "mimetype": "text/x-python",
   "name": "python",
   "nbconvert_exporter": "python",
   "pygments_lexer": "ipython3",
   "version": "3.6.6"
  }
 },
 "nbformat": 4,
 "nbformat_minor": 2
}
