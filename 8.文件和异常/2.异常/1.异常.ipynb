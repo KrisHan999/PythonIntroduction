{
 "cells": [
  {
   "cell_type": "markdown",
   "metadata": {},
   "source": [
    "Python异常\n",
    ">异常是使用try-except代码块来处理的。try-except代码块让Python执行指定的操作，同时告诉Python发生了异常应该怎么办。**如果不想处理异常，在except代码块中写pass**\n",
    "\n",
    ">处理异常时有时添加else语句，用来处理try代码块成功执行时才需要的代码。**try-except-else代码块**\n",
    "\n",
    ">如果异常都会被处理，try-except-else代码块之后的代码无论是否有异常都会被执行。"
   ]
  },
  {
   "cell_type": "code",
   "execution_count": 2,
   "metadata": {},
   "outputs": [
    {
     "name": "stdout",
     "output_type": "stream",
     "text": [
      "Give me two numbers and I will divide them\n",
      "Enter \"q\" to quit\n",
      "\n",
      "First number25\n",
      "\n",
      "Second number5\n",
      "5.0\n",
      "\n",
      "llllll\n",
      "\n",
      "First number25\n",
      "\n",
      "Second number0\n",
      "\n",
      "You can't divide by 0\n",
      "\n",
      "llllll\n",
      "\n",
      "First numberq\n",
      "\n",
      "Exit\n"
     ]
    }
   ],
   "source": [
    "# 处理 ZeroDivisionError 异常，除数不能为0\n",
    "\n",
    "print('Give me two numbers and I will divide them')\n",
    "print('Enter \"q\" to quit')\n",
    "\n",
    "while True:\n",
    "    first_number = input('\\nFirst number')\n",
    "    if first_number == 'q':\n",
    "        print('\\nExit')\n",
    "        break\n",
    "    else:\n",
    "        second_number = input('\\nSecond number')\n",
    "    \n",
    "    try:\n",
    "        answer = int(first_number)/int(second_number)\n",
    "    except ZeroDivisionError:\n",
    "        print('\\nYou can\\'t divide by 0')\n",
    "    else:\n",
    "        print(answer)\n",
    "        \n",
    "    print('\\nllllll')\n",
    "#     无论是否出现异常，都会打印111111"
   ]
  },
  {
   "cell_type": "code",
   "execution_count": 3,
   "metadata": {},
   "outputs": [
    {
     "name": "stdout",
     "output_type": "stream",
     "text": [
      "The file has 8 words\n"
     ]
    }
   ],
   "source": [
    "# 处理 FileNotFoundError ：找不到文件，文件名不对或者文件在其他地方\n",
    "\n",
    "def count_words(filename):\n",
    "    try:\n",
    "        with open(filename) as file_object:\n",
    "            contents = file_object.read()\n",
    "    except FileNotFoundError:\n",
    "        print('Sorry, the file \\'{}\\' does not exist'.format(filename))\n",
    "    else:\n",
    "#         calculate the word number\n",
    "        words = contents.split()\n",
    "        num_words = len(words)\n",
    "        print('The file has {} words'.format(num_words))\n",
    "        \n",
    "filename = 'programming_1.txt'\n",
    "count_words(filename)"
   ]
  },
  {
   "cell_type": "code",
   "execution_count": null,
   "metadata": {},
   "outputs": [],
   "source": []
  }
 ],
 "metadata": {
  "kernelspec": {
   "display_name": "Python 3",
   "language": "python",
   "name": "python3"
  },
  "language_info": {
   "codemirror_mode": {
    "name": "ipython",
    "version": 3
   },
   "file_extension": ".py",
   "mimetype": "text/x-python",
   "name": "python",
   "nbconvert_exporter": "python",
   "pygments_lexer": "ipython3",
   "version": "3.6.6"
  }
 },
 "nbformat": 4,
 "nbformat_minor": 2
}
