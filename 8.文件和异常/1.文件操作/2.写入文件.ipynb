{
 "cells": [
  {
   "cell_type": "code",
   "execution_count": 6,
   "metadata": {},
   "outputs": [],
   "source": [
    "filename = 'programming_1.txt'\n",
    "\n",
    "with open(filename, 'w') as file_object:\n",
    "    file_object.write(\"I love programming.\\n\")\n",
    "    \n",
    "filename = 'programming_2.txt'\n",
    "\n",
    "with open(filename, 'w') as file_object:\n",
    "    file_object.write(\"I love programming.\\n\")"
   ]
  },
  {
   "cell_type": "markdown",
   "metadata": {},
   "source": [
    "写入文件\n",
    "---\n",
    "函数write()不会在写入的文件末尾添加换行符。\n",
    ">打开文件时，可指定读取模式('r')、写入模式('w')、附加模式('a')或其他模式('r+','w+','a+')\n",
    "\n",
    ">('w'): 覆盖原来的内容写入\n",
    "\n",
    ">('a'): 不覆盖，将内容添加到文件末尾"
   ]
  },
  {
   "cell_type": "code",
   "execution_count": 7,
   "metadata": {},
   "outputs": [],
   "source": [
    "# 演示('w')\n",
    "\n",
    "filename = 'programming_1.txt'\n",
    "with open(filename, 'w') as file_object:\n",
    "    file_object.write('I love programming.\\n')\n",
    "    file_object.write('I love creating new games.\\n')"
   ]
  },
  {
   "cell_type": "code",
   "execution_count": 8,
   "metadata": {},
   "outputs": [],
   "source": [
    "# 演示('r')\n",
    "\n",
    "filename = 'programming_2.txt'\n",
    "with open(filename, 'a') as file_object:\n",
    "    file_object.write('I love programming.\\n')\n",
    "    file_object.write('I love creating new games.\\n')"
   ]
  },
  {
   "cell_type": "code",
   "execution_count": null,
   "metadata": {},
   "outputs": [],
   "source": []
  }
 ],
 "metadata": {
  "kernelspec": {
   "display_name": "Python 3",
   "language": "python",
   "name": "python3"
  },
  "language_info": {
   "codemirror_mode": {
    "name": "ipython",
    "version": 3
   },
   "file_extension": ".py",
   "mimetype": "text/x-python",
   "name": "python",
   "nbconvert_exporter": "python",
   "pygments_lexer": "ipython3",
   "version": "3.6.6"
  }
 },
 "nbformat": 4,
 "nbformat_minor": 2
}
