{
 "cells": [
  {
   "cell_type": "markdown",
   "metadata": {},
   "source": [
    "unittest Module中的断言方法\n",
    "---\n",
    "\n",
    "- assertEqual(a, b) 核实a == b\n",
    "- assertNotEqual(a, b) 核实a != b\n",
    "- assertTrue(x) 核实x为True\n",
    "- assertFalse(x) 核实x为False\n",
    "- assertIn(item, list) 核实item在list中\n",
    "- assertNotIn(item, list) 核实item不再list中"
   ]
  },
  {
   "cell_type": "code",
   "execution_count": null,
   "metadata": {},
   "outputs": [],
   "source": []
  }
 ],
 "metadata": {
  "kernelspec": {
   "display_name": "Python 3",
   "language": "python",
   "name": "python3"
  },
  "language_info": {
   "codemirror_mode": {
    "name": "ipython",
    "version": 3
   },
   "file_extension": ".py",
   "mimetype": "text/x-python",
   "name": "python",
   "nbconvert_exporter": "python",
   "pygments_lexer": "ipython3",
   "version": "3.6.6"
  }
 },
 "nbformat": 4,
 "nbformat_minor": 2
}
