{
 "cells": [
  {
   "cell_type": "code",
   "execution_count": 1,
   "metadata": {},
   "outputs": [],
   "source": [
    "# 编写一个需要被测试的类 survey.py\n",
    "class AnonymousSurvey():\n",
    "\n",
    "    def __init__(self, question):\n",
    "        self.question = question\n",
    "        self.responses = []\n",
    "\n",
    "    def show_question(self):\n",
    "        print(self.question)\n",
    "    \n",
    "    def store_response(self, new_response):\n",
    "        self.responses.append(new_response)\n",
    "    \n",
    "    def show_result(self):\n",
    "        print(\"Survey results:\")\n",
    "        for response in self.responses:\n",
    "            print('- ' + response)"
   ]
  },
  {
   "cell_type": "code",
   "execution_count": 2,
   "metadata": {},
   "outputs": [
    {
     "name": "stdout",
     "output_type": "stream",
     "text": [
      "What language didi you first learn to speak?\n",
      "Enter 'q' at any time to quit!\n",
      "\n",
      "Language: English\n",
      "Language: q\n",
      "\n",
      "Thank you to everyone who participated in the survey.\n",
      "Survey results:\n",
      "- English\n"
     ]
    }
   ],
   "source": [
    "# 编写一个使用AnonymousSurvey类的程序 language_survey.py\n",
    "from survey import AnonymousSurvey\n",
    "\n",
    "question = 'What language didi you first learn to speak?'\n",
    "my_survey = AnonymousSurvey(question)\n",
    "\n",
    "my_survey.show_question()\n",
    "print('Enter \\'q\\' at any time to quit!\\n')\n",
    "while True:\n",
    "    response = input('Language: ')\n",
    "    if response == 'q':\n",
    "        break\n",
    "    else:\n",
    "        my_survey.store_response(response)\n",
    "\n",
    "print('\\nThank you to everyone who participated in the survey.')\n",
    "my_survey.show_results()"
   ]
  },
  {
   "cell_type": "code",
   "execution_count": 3,
   "metadata": {},
   "outputs": [
    {
     "name": "stderr",
     "output_type": "stream",
     "text": [
      "E\n",
      "======================================================================\n",
      "ERROR: C:\\Users\\11198\\AppData\\Roaming\\jupyter\\runtime\\kernel-10844467-9ff4-49e0-b924-66ce010e4d54 (unittest.loader._FailedTest)\n",
      "----------------------------------------------------------------------\n",
      "AttributeError: module '__main__' has no attribute 'C:\\Users\\11198\\AppData\\Roaming\\jupyter\\runtime\\kernel-10844467-9ff4-49e0-b924-66ce010e4d54'\n",
      "\n",
      "----------------------------------------------------------------------\n",
      "Ran 1 test in 0.000s\n",
      "\n",
      "FAILED (errors=1)\n"
     ]
    },
    {
     "ename": "SystemExit",
     "evalue": "True",
     "output_type": "error",
     "traceback": [
      "An exception has occurred, use %tb to see the full traceback.\n",
      "\u001b[1;31mSystemExit\u001b[0m\u001b[1;31m:\u001b[0m True\n"
     ]
    },
    {
     "name": "stderr",
     "output_type": "stream",
     "text": [
      "D:\\Anaconda2\\envs\\py3.6\\lib\\site-packages\\IPython\\core\\interactiveshell.py:2969: UserWarning: To exit: use 'exit', 'quit', or Ctrl-D.\n",
      "  warn(\"To exit: use 'exit', 'quit', or Ctrl-D.\", stacklevel=1)\n"
     ]
    }
   ],
   "source": [
    "# 测试AnonymousSurvey类 test_survey.py\n",
    "import unittest\n",
    "from survey import AnonymousSurvey\n",
    "\n",
    "class TestAnonymousSurvey(unittest.TestCase):\n",
    "    \n",
    "    def test_store_single_response(self):\n",
    "        question = 'What language did you first learn to speak?'\n",
    "        my_survey = AnonymousSurvey(question)\n",
    "        my_survey.store_response('English')\n",
    "\n",
    "        self.assertIn('English', my_survey.responses)\n",
    "\n",
    "    def test_store_three__response(self):\n",
    "        question = 'What language did you first learn to speak?'\n",
    "        my_survey = AnonymousSurvey(question)\n",
    "        responses = ['English', 'Spanish', 'Mandarin']\n",
    "        for response in responses:\n",
    "            my_survey.store_response(response)\n",
    "        \n",
    "        for response in responses:\n",
    "            self.assertIn(response, my_survey.responses)\n",
    "    \n",
    "unittest.main()"
   ]
  },
  {
   "cell_type": "markdown",
   "metadata": {},
   "source": [
    "方法setUp()\n",
    "---\n",
    ">在前面test\\_survey\\.py中，我们在每个测试方法中都创建了一个AnonymousSurvey的实例，并在每个方法中都创建了答案。**unittest.TestCase**类包含方法setUp()，让我们只需创建这些对象一次，并在每个测试方法中使用它们。**如果你在TestCase类中包含了方法setUp()，Python将先运行它，再运行其它的各个test\\_打头的方法。**这样，在你编写的每个测试方法中都可使用在方法setUp()中创建的对象了。"
   ]
  },
  {
   "cell_type": "markdown",
   "metadata": {},
   "source": [
    ">在运行每个测试方法时，self的每个变量都会根据setUp()来重置。"
   ]
  },
  {
   "cell_type": "code",
   "execution_count": null,
   "metadata": {},
   "outputs": [],
   "source": [
    "import unittest\n",
    "from survey import AnonymousSurvey\n",
    "\n",
    "class TestAnonymousSurvey(unittest.TestCase):\n",
    "    def setUp(self):\n",
    "        question = \"what language did you first to learn?\"\n",
    "        self.my_survey = AnonymousSurvey(question)\n",
    "        self.responses = ['English', 'Spanish', 'Mandarin']\n",
    "        \n",
    "    def test_store_single_response(self):\n",
    "        print(self.my_survey.responses)\n",
    "        self.my_survey.store_response(self.responses[0])\n",
    "        self.assertIn(self.responses[0], self.my_survey.responses)\n",
    "        print(self.my_survey.responses)\n",
    "        \n",
    "    def test_store_three_response(self):\n",
    "        print(self.my_survey.responses)\n",
    "        for response in self.responses:\n",
    "            self.my_survey.store_response(response)\n",
    "        for response in self.responses:\n",
    "            self.assertIn(response, self.my_survey.responses)\n",
    "        print(self.my_survey.responses)\n",
    "\n",
    "unittest.main()"
   ]
  }
 ],
 "metadata": {
  "kernelspec": {
   "display_name": "Python 3",
   "language": "python",
   "name": "python3"
  },
  "language_info": {
   "codemirror_mode": {
    "name": "ipython",
    "version": 3
   },
   "file_extension": ".py",
   "mimetype": "text/x-python",
   "name": "python",
   "nbconvert_exporter": "python",
   "pygments_lexer": "ipython3",
   "version": "3.6.6"
  }
 },
 "nbformat": 4,
 "nbformat_minor": 2
}
