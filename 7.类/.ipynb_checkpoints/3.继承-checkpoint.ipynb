{
 "cells": [
  {
   "cell_type": "markdown",
   "metadata": {},
   "source": [
    "类的继承\n",
    "===\n",
    ">当一个类继承另一个类时，它将自动获得另一个类的所有属性和方法；原来的类称为父类，新类成为子类。子类继承父类的所有属性和方法，同时还可以定义自己的属性和方法。\n",
    "\n",
    "\n",
    ">**在定义父类时，必须在括号内指定父类的名称**"
   ]
  },
  {
   "cell_type": "markdown",
   "metadata": {},
   "source": [
    "1.子类方法\\_\\_init()\\_\\_\n",
    "---\n",
    ">创建子类实例时，Python首先要做的就是给父类所有的属性赋值。调用父类的构造函数时，不需要传入参数self"
   ]
  },
  {
   "cell_type": "code",
   "execution_count": 6,
   "metadata": {},
   "outputs": [
    {
     "name": "stdout",
     "output_type": "stream",
     "text": [
      "2016 Telsa Model_S\n"
     ]
    }
   ],
   "source": [
    "#创建父类\n",
    "class Car():\n",
    "    \n",
    "    def __init__(self, make, model, year):\n",
    "        self.make = make\n",
    "        self.model = model\n",
    "        self.year = year\n",
    "        self.odometer_reading = 0\n",
    "    \n",
    "    def get_descriptive_name(self):\n",
    "        long_name = str(self.year) + ' ' + self.make + ' ' + self.model\n",
    "        return long_name.title()\n",
    "    \n",
    "    def read_odometer(self):\n",
    "        print('This car has {} miles on it.'.format(self.odometer_reading))\n",
    "        \n",
    "    def update_odometer(self, mileage):\n",
    "        if mileage >= self.odometer_reading:\n",
    "            self.odometer_reading = mileage\n",
    "        else:\n",
    "            print(\"You can not roll back miles\")\n",
    "    \n",
    "    def increment_odometer(self, miles):\n",
    "        self.odometer_reading += miles\n",
    "        \n",
    "#创建子类\n",
    "class ElectricCar_1(Car):\n",
    "    \n",
    "    def __init__(self, make, model, year):\n",
    "        super().__init__(make, model, year)\n",
    "        \n",
    "my_telsa_1 = ElectricCar_1('telsa', 'model_s', 2016)\n",
    "print(my_telsa_1.get_descriptive_name())"
   ]
  },
  {
   "cell_type": "markdown",
   "metadata": {},
   "source": [
    "2.给子类定义属性和方法\n",
    "---\n",
    ">给子类添加self.battery属性和describe_battery()方法"
   ]
  },
  {
   "cell_type": "code",
   "execution_count": 8,
   "metadata": {},
   "outputs": [
    {
     "name": "stdout",
     "output_type": "stream",
     "text": [
      "2016 Telsa Model_S\n",
      "This car has a 70-kWh battery\n"
     ]
    }
   ],
   "source": [
    "class ElectricCar_2(Car):\n",
    "    \n",
    "    def __init__(self, make, model, year):\n",
    "        super().__init__(make, model, year)\n",
    "        self.battery_size = 70\n",
    "        \n",
    "    def describe_battery(self):\n",
    "        print(\"This car has a \" + str(self.battery_size) + \"-kWh battery\")\n",
    "        \n",
    "my_telsa_2 = ElectricCar_2('telsa', 'model_s', 2016)\n",
    "print(my_telsa_2.get_descriptive_name())\n",
    "my_telsa_2.describe_battery()"
   ]
  },
  {
   "cell_type": "code",
   "execution_count": null,
   "metadata": {},
   "outputs": [],
   "source": []
  }
 ],
 "metadata": {
  "kernelspec": {
   "display_name": "Python 3",
   "language": "python",
   "name": "python3"
  },
  "language_info": {
   "codemirror_mode": {
    "name": "ipython",
    "version": 3
   },
   "file_extension": ".py",
   "mimetype": "text/x-python",
   "name": "python",
   "nbconvert_exporter": "python",
   "pygments_lexer": "ipython3",
   "version": "3.6.6"
  }
 },
 "nbformat": 4,
 "nbformat_minor": 2
}
