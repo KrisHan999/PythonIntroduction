{
 "cells": [
  {
   "cell_type": "markdown",
   "metadata": {},
   "source": [
    ">**面向对象编程是最有效的软件编写方法之一。**\n",
    "\n",
    ">编写表示现实世界的类，并基于这些类来创建对象。在编写类时，定义一大类对象都有的通用行为，并基于这些类来创建对象，每个对象都会自动具有这些通用的行为。\n",
    "\n",
    ">**通过类来创建对象叫做实例化。**\n",
    "\n",
    ">**类与类之间的联系最能体现出的是逻辑。**"
   ]
  },
  {
   "cell_type": "markdown",
   "metadata": {},
   "source": [
    "创建和使用类\n",
    "==="
   ]
  },
  {
   "cell_type": "markdown",
   "metadata": {},
   "source": [
    "1.1 创建Dog类\n",
    "---"
   ]
  },
  {
   "cell_type": "code",
   "execution_count": 12,
   "metadata": {},
   "outputs": [],
   "source": [
    "class Dog():\n",
    "    \n",
    "    \"\"\"一次模拟小狗的简单尝试\"\"\"\n",
    "    def __init__(self, name, age):\n",
    "        \"\"\"初始化属性name和age\"\"\"\n",
    "        self.name = name\n",
    "        self.age = age\n",
    "        \n",
    "    def sit(self):\n",
    "        \"\"\"模仿小狗蹲下\"\"\"\n",
    "        print(\"{} is now sitting. \".format(self.name.title()))\n",
    "        \n",
    "    def roll_over(self):\n",
    "        \"\"\"模仿小狗打滚\"\"\"\n",
    "        print(\"{} rolled over\".format(self.name.title()))"
   ]
  },
  {
   "cell_type": "markdown",
   "metadata": {},
   "source": [
    ">根据约定**首字母大写**的名称表示的是类。在类定义中的括号是空的，因为是从空白创建这个类。\n",
    "\n",
    "1. self变量\n",
    "    - Python编写类的时候,**每个函数参数第一个参数都是self**。首先明确的是self只有在类的方法中才会有，独立的函数或方法是不必带有self的。self在定义类的方法时是必须有的，虽然在调用时不必传入相应的参数。**self指的是调用类的实例**\n",
    "2. \\_\\_init\\_\\_()\n",
    "    - \\_\\_init\\_\\_()是Python中的构造函数。如果不明确构造函数，默认构造函数只是简单创建一个实例。\n",
    "    - 一但给定一个构造函数，只能按照构造函数的定义来创建实例。**Pyhon类中只有一个构造函数**\n",
    "    - 给个与类相关联的方法都会自动传递实参self，它是一个指向实例本身的引用，让实例能够访问类中的属性和方法。\n",
    "    - 不仅在__init__()函数中可以定义并初始化变量，在其他类函数中也可以惊醒定义和初始化函数，具体例子见下面例子-类A\n",
    "    - **\\_\\_init\\_\\_()并未显示包含return语句，但Python会自动返回表示一个表示小狗的实例。**\n",
    "3. \\_\\_del\\_\\_()\n",
    "    - \\_\\_del\\_\\_()是Python的析构函数。同样也有默认的析构函数。当使用del删除对象时，会自动调用析构函数。\n",
    "4. **[类变量和实例变量](http://kuanghy.github.io/2015/12/19/python-variable)**\n",
    "    - 类变量：类变量定义在类中且在函数体之外。类变量通常不作为实例变量使用。类变量在整个实例化的对象中是公用的。\n",
    "        - 访问方式：在类内部和外部，类变量都用`类名.类变量`的形式访问。在类内部，也可以用`self.类变量`来访问类变量，但此时它的含义已经变了，实际上它已经成了一个实例变量。在实例变量没有被重新赋值时，用 self.类变量`才能访问到正确的值`。**简单的说就是实例变量会屏蔽掉类变量的值，就像局部变量屏蔽掉全局变量的值一样**。所以一般情况下是不将类变量作为实例变量使用的。\n",
    "    - 实例变量：定义在方法中的变量，用self绑定到实例上，只作用于当前实例的类。\n",
    "        - 访问方式：在类内部，实例变量用`self.实例变量`的形式访问；在类外部，用`实例名.实例变量`的形式访问。**实例变量是绑定到一个实例上的变量，它只属于这个实例**。这一点区别于类变量，类变量是所有来自于同一个类的实例所共享的。\n",
    "    "
   ]
  },
  {
   "cell_type": "code",
   "execution_count": 8,
   "metadata": {},
   "outputs": [
    {
     "name": "stdout",
     "output_type": "stream",
     "text": [
      "Kris\n",
      "18\n",
      "default\n",
      "0\n"
     ]
    }
   ],
   "source": [
    "class A():\n",
    "    name = \"default\"\n",
    "    age = 0\n",
    "    def __init__(self, name):\n",
    "        self.name = name\n",
    "    \n",
    "    def add_age(self, age):\n",
    "        self.age = age\n",
    "        \n",
    "a = A('Kris')\n",
    "print(a.name)\n",
    "a.add_age(18)\n",
    "print(a.age)\n",
    "print(A.name)\n",
    "print(A.age)"
   ]
  },
  {
   "cell_type": "markdown",
   "metadata": {},
   "source": [
    "1.2根据类创建实例\n",
    "---\n",
    ">通常情况下，首字母大写的时类名称，小写的名称指的是根据类创建的实例\n",
    "\n",
    ">某一个实例调用方法时——实例名.方法名（）"
   ]
  },
  {
   "cell_type": "code",
   "execution_count": 13,
   "metadata": {},
   "outputs": [
    {
     "name": "stdout",
     "output_type": "stream",
     "text": [
      "Willie is now sitting. \n",
      "Willie rolled over\n"
     ]
    }
   ],
   "source": [
    "\"\"\"\n",
    "class Dog():\n",
    "    --snip--\n",
    "\"\"\"\n",
    "my_dog = Dog('willie', 6)\n",
    "my_dog.sit()\n",
    "my_dog.roll_over()"
   ]
  }
 ],
 "metadata": {
  "kernelspec": {
   "display_name": "Python 3",
   "language": "python",
   "name": "python3"
  },
  "language_info": {
   "codemirror_mode": {
    "name": "ipython",
    "version": 3
   },
   "file_extension": ".py",
   "mimetype": "text/x-python",
   "name": "python",
   "nbconvert_exporter": "python",
   "pygments_lexer": "ipython3",
   "version": "3.6.6"
  }
 },
 "nbformat": 4,
 "nbformat_minor": 2
}
