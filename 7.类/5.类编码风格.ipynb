{
 "cells": [
  {
   "cell_type": "markdown",
   "metadata": {},
   "source": [
    ">类名采用**驼峰命名法**，即将类名中的每个单词的首字母都要大写，而不是用下划线。\n",
    "\n",
    ">实例名和模块名都采用小写格式，并在单词之间加上下划线\n",
    "\n",
    ">对于每个类，都应该紧跟在类定义后面加一个文档字符串，简要地描述类地功能，并且遵循百年谐函数地文档字符串时采用地格式约定。\n",
    "\n",
    ">可使用空行来组织代码。在类中，可使用一个空行来分分隔方法；而在模块中，可使用两个空行来分隔类\n",
    "\n",
    ">需要同时导入标准库中地模块和自己写的模块时，先编写导入标准库模块地import语句，再添加一个空行，然后编写导入自己编写的模块时地import语句"
   ]
  },
  {
   "cell_type": "code",
   "execution_count": null,
   "metadata": {},
   "outputs": [],
   "source": []
  }
 ],
 "metadata": {
  "kernelspec": {
   "display_name": "Python 3",
   "language": "python",
   "name": "python3"
  },
  "language_info": {
   "codemirror_mode": {
    "name": "ipython",
    "version": 3
   },
   "file_extension": ".py",
   "mimetype": "text/x-python",
   "name": "python",
   "nbconvert_exporter": "python",
   "pygments_lexer": "ipython3",
   "version": "3.6.6"
  }
 },
 "nbformat": 4,
 "nbformat_minor": 2
}
