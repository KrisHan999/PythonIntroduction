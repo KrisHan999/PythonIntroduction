{
 "cells": [
  {
   "cell_type": "markdown",
   "metadata": {},
   "source": [
    "- **1.检查多个条件**\n",
    "    - 1.1.使用and检查多个条件\n",
    "    - 1.2.使用or检查多个条件\n",
    "- **2.使用关键字in检查特定值是否包含在列表中**\n",
    "    ```\n",
    "    >>>requested_toppings = ['mushroom', 'onions', 'pineapples']\n",
    "    >>>'mushroom' in requested_toppings\n",
    "    True\n",
    "    >>>'pepperoni' in requested_toppings\n",
    "    False\n",
    "    ```\n",
    "- **3.if语句**\n",
    "    - if-elif-else结构\n",
    "    ```\n",
    "    age = 12\n",
    "    if age < 4:\n",
    "        print(\"Your admission cost is 0\")\n",
    "    elif age < 18:\n",
    "        print(\"Your admission cost is 5\")\n",
    "    else:\n",
    "        print(\"Your admission cost is 10\")\n",
    "    ```\n",
    "- **4.通过if来判断列表是否为空**\n",
    "    - if后加列表名，如果列表是空的，那么返回False；如果列表非空，返回True\n",
    "    ```\n",
    "    requested_toppings = []\n",
    "    if requested_toppings:\n",
    "        for requested_topping in requested_toppings:\n",
    "            print(\"Adding \" + requested_topping + \". \")\n",
    "        print(\"\\nFinished making your pizza\")\n",
    "    else:\n",
    "        print(\"Are you sure you want a plain pizza?\")\n",
    "    ```"
   ]
  },
  {
   "cell_type": "code",
   "execution_count": 3,
   "metadata": {},
   "outputs": [
    {
     "name": "stdout",
     "output_type": "stream",
     "text": [
      "Your admission cost is $5\n"
     ]
    }
   ],
   "source": [
    "age = 12\n",
    "if age < 4:\n",
    "print(\"Your admission cost is $0\")\n",
    "elif age < 18:\n",
    "    print(\"Your admission cost is $5\")\n",
    "else:\n",
    "print(\"Your admission cost is $10\")"
   ]
  },
  {
   "cell_type": "code",
   "execution_count": null,
   "metadata": {},
   "outputs": [],
   "source": []
  }
 ],
 "metadata": {
  "kernelspec": {
   "display_name": "Python 3",
   "language": "python",
   "name": "python3"
  },
  "language_info": {
   "codemirror_mode": {
    "name": "ipython",
    "version": 3
   },
   "file_extension": ".py",
   "mimetype": "text/x-python",
   "name": "python",
   "nbconvert_exporter": "python",
   "pygments_lexer": "ipython3",
   "version": "3.6.6"
  }
 },
 "nbformat": 4,
 "nbformat_minor": 2
}
