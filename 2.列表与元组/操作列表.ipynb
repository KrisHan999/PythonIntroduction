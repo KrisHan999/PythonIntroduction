{
 "cells": [
  {
   "cell_type": "markdown",
   "metadata": {},
   "source": [
    "### 操作列表\n",
    "- **1.数值列表**\n",
    "    - range()函数：得到range类型的实例\n",
    "        - range(5) # 0,1,2,3,4\n",
    "        - range(1,5) # 1,2,3,4\n",
    "        - 确定步长 range(1,5,2) # 1,3\n",
    "    - list(range(5)):将range类型的实例变为列表\n",
    "    - min(digits_list): 数值列表的最小值\n",
    "    - max(digits_list): 数值列表的最大值\n",
    "    - sum(digits_list): 数值列表的总和\n",
    "- **2.列表解析**\n",
    "    - 举例\n",
    "    ```\n",
    "    squares = [value**2 for value in range(1,11)]\n",
    "    ```\n",
    "- **3.使用切片的一部分**\n",
    "    - list_name[1:4] #list_name[1],list_name[2],list_name[3]\n",
    "    - list_name[-3:] #得到list上的最后三个元素\n",
    "- **4.复制列表**\n",
    "    - 复制列表可以创建一个包含整个列表的切片，方法是同时省略起始索引和终止索引\n",
    "    ```\n",
    "    my_food = ['pizza', 'banana']\n",
    "    friend_food = my_food[:]\n",
    "    ```\n",
    "        "
   ]
  },
  {
   "cell_type": "code",
   "execution_count": 1,
   "metadata": {},
   "outputs": [
    {
     "name": "stdout",
     "output_type": "stream",
     "text": [
      "<class 'range'>\n"
     ]
    }
   ],
   "source": [
    "print(type(range(5)))"
   ]
  },
  {
   "cell_type": "code",
   "execution_count": 2,
   "metadata": {},
   "outputs": [
    {
     "name": "stdout",
     "output_type": "stream",
     "text": [
      "[1, 4, 9, 16, 25, 36, 49, 64, 81, 100]\n"
     ]
    }
   ],
   "source": [
    "squares = [value**2 for value in range(1,11)]\n",
    "print(squares)"
   ]
  },
  {
   "cell_type": "markdown",
   "metadata": {},
   "source": []
  }
 ],
 "metadata": {
  "kernelspec": {
   "display_name": "Python 3",
   "language": "python",
   "name": "python3"
  },
  "language_info": {
   "codemirror_mode": {
    "name": "ipython",
    "version": 3
   },
   "file_extension": ".py",
   "mimetype": "text/x-python",
   "name": "python",
   "nbconvert_exporter": "python",
   "pygments_lexer": "ipython3",
   "version": "3.6.6"
  }
 },
 "nbformat": 4,
 "nbformat_minor": 2
}
