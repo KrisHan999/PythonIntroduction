{
 "cells": [
  {
   "cell_type": "markdown",
   "metadata": {},
   "source": [
    ">函数可以返回任何类型的值，包括列表和字典等较复杂的数据结构。\n",
    "\n",
    ">**如果将字典变量、列表变量名直接传入函数，那么函数是可以直接修改这个字典变量和列表变量的**\n",
    "\n",
    ">**而对于直接的字符变量和数值变量，函数不会保留修改**"
   ]
  },
  {
   "cell_type": "code",
   "execution_count": 11,
   "metadata": {},
   "outputs": [
    {
     "name": "stdout",
     "output_type": "stream",
     "text": [
      "8\n",
      "9\n"
     ]
    }
   ],
   "source": [
    "def minus_one(value):\n",
    "    value -= 1\n",
    "    print(value)\n",
    "\n",
    "value = 9\n",
    "minus_one(value)\n",
    "print(value)"
   ]
  },
  {
   "cell_type": "markdown",
   "metadata": {},
   "source": [
    "函数返回字典、传递字典\n",
    "---\n",
    ">当字典作为实参传入函数时，在函数中修改字典修改的是实参，保留做出的修改。"
   ]
  },
  {
   "cell_type": "code",
   "execution_count": 3,
   "metadata": {},
   "outputs": [
    {
     "name": "stdout",
     "output_type": "stream",
     "text": [
      "{'first': 'jimi', 'last': 'hendrix'}\n"
     ]
    }
   ],
   "source": [
    "def build_person(first_name, last_name):\n",
    "    person = {'first': first_name, 'last': last_name}\n",
    "    return person\n",
    "\n",
    "musician = build_person('jimi', 'hendrix')\n",
    "print(musician)"
   ]
  },
  {
   "cell_type": "code",
   "execution_count": 9,
   "metadata": {},
   "outputs": [
    {
     "name": "stdout",
     "output_type": "stream",
     "text": [
      "Kris Han's age: 23\n",
      "{'first': 'Kris', 'last': 'Han', 'age': 23}\n"
     ]
    }
   ],
   "source": [
    "#字典作为实参传入函数并修改字典\n",
    "def print_info(person, age):\n",
    "    name = person['first'] + ' ' + person['last']\n",
    "    person['age'] = age\n",
    "    print(\"{}'s age: {}\".format(name, age))\n",
    "    return person\n",
    "\n",
    "writer = {'first': 'Kris', 'last': 'Han'}\n",
    "print_info(writer, 23)\n",
    "print(writer)"
   ]
  },
  {
   "cell_type": "markdown",
   "metadata": {},
   "source": [
    "传递列表\n",
    "---\n",
    ">如果将列表名直接传入函数中，那么在函数是可以修改这个列表的。如果禁止修改列表，那么传入函数的应该就是这个列表的副本（list_name[:]）\n",
    "\n",
    "1. 在函数中修改列表\n",
    "2. 禁止函数修改列表，传入list_name[:]\n",
    "    - 虽然向函数传递列表的副本可保留原始列表的内容，但除非有充分的理由需要传递副本，否则还是应该将原始列表传递给函数，因为让函数使用现成列表可避免花时间和内存创建副本，从而提高效率，在处理大型列表时尤其如此"
   ]
  },
  {
   "cell_type": "code",
   "execution_count": 19,
   "metadata": {},
   "outputs": [
    {
     "name": "stdout",
     "output_type": "stream",
     "text": [
      "Printing model: dodecahedron\n",
      "Printing model: robot pendant\n",
      "Printing model: iphone case\n",
      "\n",
      "The following models have been completed:\n",
      "dodecahedron\n",
      "robot pendant\n",
      "iphone case\n",
      "\n",
      "Print lists after the modification\n",
      "Unprinted_models: \n",
      "[]\n",
      "Completed_models: {}\n",
      "['dodecahedron', 'robot pendant', 'iphone case']\n"
     ]
    }
   ],
   "source": [
    "#在函数中修改列表\n",
    "def print_models(unprinted_designs, completed_designs):\n",
    "    while unprinted_designs:\n",
    "        current_design = unprinted_designs.pop()\n",
    "        print(\"Printing model: {}\".format(current_design))\n",
    "        completed_designs.append(current_design)\n",
    "\n",
    "def show_completed_designs(completed_designs):\n",
    "    print(\"\\nThe following models have been completed:\")\n",
    "    for completed_design in completed_designs:\n",
    "        print(completed_design)\n",
    "        \n",
    "unprinted_models = ['iphone case', 'robot pendant', 'dodecahedron']\n",
    "completed_models = []\n",
    "\n",
    "print_models(unprinted_models, completed_models)\n",
    "show_completed_designs(completed_models)\n",
    "\n",
    "print(\"\\nPrint lists after the modification\")\n",
    "print(\"Unprinted_models: \")\n",
    "print(unprinted_models)\n",
    "print(\"Completed_models: {}\")\n",
    "print(completed_models)"
   ]
  },
  {
   "cell_type": "code",
   "execution_count": 24,
   "metadata": {},
   "outputs": [
    {
     "name": "stdout",
     "output_type": "stream",
     "text": [
      "Printing model: dodecahedron\n",
      "Printing model: robot pendant\n",
      "Printing model: iphone case\n",
      "\n",
      "The following models have been completed:\n",
      "\n",
      "Print lists after the modification\n",
      "Unprinted_models: \n",
      "['iphone case', 'robot pendant', 'dodecahedron']\n",
      "Completed_models: {}\n",
      "[]\n"
     ]
    }
   ],
   "source": [
    "#禁止函数修改列表\n",
    "# 将上一个例子中实参由list_name改为list_name[:]\n",
    "#在函数中修改列表\n",
    "def print_models(unprinted_designs, completed_designs):\n",
    "    while unprinted_designs:\n",
    "        current_design = unprinted_designs.pop()\n",
    "        print(\"Printing model: {}\".format(current_design))\n",
    "        completed_designs.append(current_design)\n",
    "\n",
    "def show_completed_designs(completed_designs):\n",
    "    print(\"\\nThe following models have been completed:\")\n",
    "    for completed_design in completed_designs:\n",
    "        print(completed_design)\n",
    "        \n",
    "unprinted_models = ['iphone case', 'robot pendant', 'dodecahedron']\n",
    "completed_models = []\n",
    "\n",
    "print_models(unprinted_models[:], completed_models[:])\n",
    "show_completed_designs(completed_models)\n",
    "\n",
    "print(\"\\nPrint lists after the modification\")\n",
    "print(\"Unprinted_models: \")\n",
    "print(unprinted_models)\n",
    "print(\"Completed_models: {}\")\n",
    "print(completed_models)\n"
   ]
  },
  {
   "cell_type": "code",
   "execution_count": null,
   "metadata": {},
   "outputs": [],
   "source": []
  }
 ],
 "metadata": {
  "kernelspec": {
   "display_name": "Python 3",
   "language": "python",
   "name": "python3"
  },
  "language_info": {
   "codemirror_mode": {
    "name": "ipython",
    "version": 3
   },
   "file_extension": ".py",
   "mimetype": "text/x-python",
   "name": "python",
   "nbconvert_exporter": "python",
   "pygments_lexer": "ipython3",
   "version": "3.6.6"
  }
 },
 "nbformat": 4,
 "nbformat_minor": 2
}
