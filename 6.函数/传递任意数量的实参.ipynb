{
 "cells": [
  {
   "cell_type": "markdown",
   "metadata": {},
   "source": [
    "传递任意数量的实参\n",
    "---\n",
    "### Python允许函数从调用从调用语句中收集任意数量的实参"
   ]
  },
  {
   "cell_type": "markdown",
   "metadata": {},
   "source": [
    "下面的函数只有一个形参\\*toppings，但不管调用语句提供了多少实参，这个形参都将它们统统收入囊中："
   ]
  },
  {
   "cell_type": "code",
   "execution_count": 4,
   "metadata": {},
   "outputs": [
    {
     "name": "stdout",
     "output_type": "stream",
     "text": [
      "('pepperoni',)\n",
      "('mushroom', 'green peppers', 'extra cheese')\n"
     ]
    }
   ],
   "source": [
    "def make_pizza_1(*toppings):\n",
    "    print(toppings)\n",
    "\n",
    "make_pizza_1('pepperoni')\n",
    "make_pizza_1('mushroom', 'green peppers', 'extra cheese')"
   ]
  },
  {
   "cell_type": "markdown",
   "metadata": {},
   "source": [
    "形参名\\*toppings中的星号让Python创建一个名为toppings的**空元组**，并将收到的所有值都封装到这个元组中。函数内的print语句通过生成输出证明Python能够处理使用一个值调用函数的情形，也能处理使用三个值来调用函数的情形。**注意，Python将实参封装到一个元组中，即便函数只收到一个值或者没有值也如此**"
   ]
  },
  {
   "cell_type": "markdown",
   "metadata": {},
   "source": [
    "结合使用位置实参和任意数量实参\n",
    "---\n",
    ">#### 如果要让函数接受不同类型的实参，必须在函数定义中将接纳任意数量实参的形参放在最后。\n",
    "\n",
    ">#### Python先匹配位置实参和关键字实参，再将余下的实参都收集到最后一个形参中"
   ]
  },
  {
   "cell_type": "code",
   "execution_count": 5,
   "metadata": {},
   "outputs": [
    {
     "name": "stdout",
     "output_type": "stream",
     "text": [
      "\n",
      "Making a 16-inch pizza with the following toppings.\n",
      "- pepperoni\n",
      "\n",
      "Making a 12-inch pizza with the following toppings.\n",
      "- mushroom\n",
      "- green peppers\n",
      "- extra cheese\n"
     ]
    }
   ],
   "source": [
    "def make_pizza_2(size, *toppings):\n",
    "    print(\"\\nMaking a {}-inch pizza with the following toppings.\".format(size))\n",
    "    \n",
    "    for topping in toppings:\n",
    "        print(\"- {}\".format(topping))\n",
    "        \n",
    "make_pizza_2(16, 'pepperoni')\n",
    "make_pizza_2(12, 'mushroom', 'green peppers', 'extra cheese')"
   ]
  },
  {
   "cell_type": "markdown",
   "metadata": {},
   "source": [
    "使用任意数量的关键字实参，传递键值对\n",
    "---\n",
    ">有时候需要接受任意数量的实参，但预先不知道传递给函数会是什么样的信息。在这种情况下，可将**函数编写成能够接受任意数量的键-值对**——调用语句提供了多少就接受多少。\n",
    "\n",
    ">**函数形参前使\\*\\*可以将实参中的名称-值对填充到一个空字典中，但是要注意的是位置实参和关键字实参都必须在这个参数之前。**"
   ]
  },
  {
   "cell_type": "code",
   "execution_count": 9,
   "metadata": {},
   "outputs": [
    {
     "name": "stdout",
     "output_type": "stream",
     "text": [
      "{'first_name': 'albert', 'last_name': 'einstein', 'location': 'princeton', 'field': 'physics'}\n"
     ]
    }
   ],
   "source": [
    "def build_profile(first, last, **user_info):\n",
    "    profile = {}\n",
    "    profile['first_name'] = first\n",
    "    profile['last_name'] = last\n",
    "    for key, value in user_info.items():\n",
    "        profile[key] = value\n",
    "    return profile\n",
    "\n",
    "user_profile = build_profile('albert', 'einstein',\n",
    "                            location = 'princeton',\n",
    "                            field = 'physics')\n",
    "\n",
    "print(user_profile)"
   ]
  },
  {
   "cell_type": "markdown",
   "metadata": {},
   "source": [
    "函数build_profile()的定义要求提供名和姓，同时允许用户根据需要提供任意数量的名称-值对。形参**\\*\\*user_info**中的两个星号让Python创建了一个名为user_info的**空字典**，并将收到的名称-值对都封装到这个字典中。在这个函数中，可以向访问其他字典那样访问user_info中的名称-值对。"
   ]
  }
 ],
 "metadata": {
  "kernelspec": {
   "display_name": "Python 3",
   "language": "python",
   "name": "python3"
  },
  "language_info": {
   "codemirror_mode": {
    "name": "ipython",
    "version": 3
   },
   "file_extension": ".py",
   "mimetype": "text/x-python",
   "name": "python",
   "nbconvert_exporter": "python",
   "pygments_lexer": "ipython3",
   "version": "3.6.6"
  }
 },
 "nbformat": 4,
 "nbformat_minor": 2
}
