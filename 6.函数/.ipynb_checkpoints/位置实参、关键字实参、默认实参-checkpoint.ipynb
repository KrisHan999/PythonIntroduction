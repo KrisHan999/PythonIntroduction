{
 "cells": [
  {
   "cell_type": "markdown",
   "metadata": {},
   "source": [
    "定义函数\n",
    "---"
   ]
  },
  {
   "cell_type": "code",
   "execution_count": 1,
   "metadata": {},
   "outputs": [
    {
     "name": "stdout",
     "output_type": "stream",
     "text": [
      "hello !\n"
     ]
    }
   ],
   "source": [
    "def greet_user():\n",
    "    print(\"hello !\")\n",
    "    \n",
    "greet_user()"
   ]
  },
  {
   "cell_type": "markdown",
   "metadata": {},
   "source": [
    "传递实参\n",
    "---\n",
    "1. 位置实参\n",
    ">位置实参要求与形参的顺序相同，在没有默认值的情况下，位置实参要与形参一一对应\n",
    "\n",
    "    ```\n",
    "    def describe_pet(animal_type, pet_name):\n",
    "        \"\"\"显示宠物的信息\"\"\"\n",
    "        print(\"\\nI have a {}.\".format(animal_type))\n",
    "        print(\"My {}'s name is {}\".format(animal_type, pet_name))\n",
    "        \n",
    "    describe_pet('hamster', 'harry')\n",
    "    ```\n",
    "2. 关键字实参\n",
    ">关键字实参传递给函数的是名称-值对。直接在实参中将名称和值关联起来，无需考虑函数调用时的实参顺序。\n",
    "\n",
    "    ```\n",
    "    def describe_pet(animal_type, pet_name):\n",
    "        \"\"\"显示宠物的信息\"\"\"\n",
    "        print(\"\\nI have a {}.\".format(animal_type)\n",
    "        print(\"My {}'s name is {}\".format(animal_type, pet_name))\n",
    "        \n",
    "    describe_pet(animal_type='hamster', pet_name='harry')\n",
    "    describe_pet(pet_name='harry', animal_type='hamster')\n",
    "    #上面两种情况得到相同的结果\n",
    "    ```\n",
    "3. 默认值\n",
    ">编写函数时，可给每个形参指定默认值。在调用函数中给形参提供了实参时，Python将使用指定的实参值；否则，将使用形参的默认值。\n",
    "\n",
    "    ```\n",
    "    def describe_pet(pet_name, animal_type='dog):\n",
    "        \"\"\"显示宠物的信息\"\"\"\n",
    "        print(\"\\nI have a {}.\".format(animal_type)\n",
    "        print(\"My {}'s name is {}\".format(animal_type, pet_name))\n",
    "\n",
    "    describe_pet('harry')\n",
    "    ```"
   ]
  },
  {
   "cell_type": "code",
   "execution_count": 4,
   "metadata": {},
   "outputs": [
    {
     "name": "stdout",
     "output_type": "stream",
     "text": [
      "\n",
      "I have a hamster.\n",
      "My hamster's name is harry\n"
     ]
    }
   ],
   "source": [
    "def describe_pet(animal_type, pet_name):\n",
    "    \"\"\"显示宠物的信息\"\"\"\n",
    "    print(\"\\nI have a {}.\".format(animal_type))\n",
    "    print(\"My {}'s name is {}\".format(animal_type, pet_name))\n",
    "\n",
    "describe_pet('hamster', 'harry')"
   ]
  },
  {
   "cell_type": "code",
   "execution_count": 8,
   "metadata": {},
   "outputs": [
    {
     "ename": "IndentationError",
     "evalue": "unindent does not match any outer indentation level (<ipython-input-8-46f95ee23897>, line 3)",
     "output_type": "error",
     "traceback": [
      "\u001b[1;36m  File \u001b[1;32m\"<ipython-input-8-46f95ee23897>\"\u001b[1;36m, line \u001b[1;32m3\u001b[0m\n\u001b[1;33m    print(\"\\nI have a {}.\".format(animal_type))\u001b[0m\n\u001b[1;37m                                               ^\u001b[0m\n\u001b[1;31mIndentationError\u001b[0m\u001b[1;31m:\u001b[0m unindent does not match any outer indentation level\n"
     ]
    }
   ],
   "source": [
    "def describe_pet(animal_type, pet_name):\n",
    "     \"\"\"显示宠物的信息\"\"\"\n",
    "    print(\"\\nI have a {}.\".format(animal_type))\n",
    "    print(\"My {}'s name is {}\".format(animal_type, pet_name))\n",
    "\n",
    "describe_pet(animal_type='hamster', pet_name='harry')"
   ]
  },
  {
   "cell_type": "code",
   "execution_count": null,
   "metadata": {},
   "outputs": [],
   "source": []
  }
 ],
 "metadata": {
  "kernelspec": {
   "display_name": "Python 3",
   "language": "python",
   "name": "python3"
  },
  "language_info": {
   "codemirror_mode": {
    "name": "ipython",
    "version": 3
   },
   "file_extension": ".py",
   "mimetype": "text/x-python",
   "name": "python",
   "nbconvert_exporter": "python",
   "pygments_lexer": "ipython3",
   "version": "3.6.6"
  }
 },
 "nbformat": 4,
 "nbformat_minor": 2
}
