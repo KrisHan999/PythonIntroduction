{
 "cells": [
  {
   "cell_type": "markdown",
   "metadata": {},
   "source": [
    "1. 导入中各函数模块并通过模块名来调用函数\n",
    "    ```\n",
    "    import module_name\n",
    "    module_name.function_name()\n",
    "    ```\n",
    "2. 导入特定的函数\n",
    "    ```\n",
    "    from module_name import function_name\n",
    "    from module_name import function_0, function_1, function_2\n",
    "    ```\n",
    "3. 使用as给函数起别名\n",
    "    ```\n",
    "    from module_name import function_name as fn\n",
    "    ```\n",
    "4. 使用as给模块指定别名\n",
    "    ```\n",
    "    import module_name as mn\n",
    "    ```\n",
    "5. 导入模块中的所有函数\n",
    "    ```\n",
    "    from module_name import *\n",
    "    ```\n",
    "    - 但是最好不要采取这种导入方法：如果模块中有函数的名称与项目中使用的名称相同，可能导致意想不到的结果：Python可能遇到多个名称相同的函数或变量，进而覆盖函数而不是分别导入所有的函数。**最佳的做法是，要么只导入你需要使用的函数，要么导入整个模块并使用1.中的函数表示方法。**"
   ]
  },
  {
   "cell_type": "code",
   "execution_count": null,
   "metadata": {},
   "outputs": [],
   "source": []
  }
 ],
 "metadata": {
  "kernelspec": {
   "display_name": "Python 3",
   "language": "python",
   "name": "python3"
  },
  "language_info": {
   "codemirror_mode": {
    "name": "ipython",
    "version": 3
   },
   "file_extension": ".py",
   "mimetype": "text/x-python",
   "name": "python",
   "nbconvert_exporter": "python",
   "pygments_lexer": "ipython3",
   "version": "3.6.6"
  }
 },
 "nbformat": 4,
 "nbformat_minor": 2
}
