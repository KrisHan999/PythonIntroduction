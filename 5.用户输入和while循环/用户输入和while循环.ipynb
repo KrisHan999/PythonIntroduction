{
 "cells": [
  {
   "cell_type": "markdown",
   "metadata": {},
   "source": [
    "函数input()获得用户输入\n",
    "===\n",
    ">函数inout()让程序暂停运行，等待用户输入一些文本。获得用户输入之后，Python将其存储在一个变量中，以方便使用。等待用户输入完成之后，用户按回车键继续运行\n",
    "\n",
    ">**input()括号里面的字符串会显示在屏幕上**\n",
    "\n",
    "```\n",
    "message = input(\"Tell me something and I will bring it back to you!\")\n",
    "print(message)\n",
    "```"
   ]
  },
  {
   "cell_type": "code",
   "execution_count": 2,
   "metadata": {},
   "outputs": [
    {
     "name": "stdout",
     "output_type": "stream",
     "text": [
      "Tell me something and I will bring it back to you!Hello\n",
      "Hello\n"
     ]
    }
   ],
   "source": [
    "message = input(\"Tell me something and I will bring it back to you!\")\n",
    "print(message)"
   ]
  },
  {
   "cell_type": "markdown",
   "metadata": {},
   "source": [
    "使用int()将获得的数值的字符型输入转为数值\n",
    "---\n"
   ]
  },
  {
   "cell_type": "code",
   "execution_count": 5,
   "metadata": {},
   "outputs": [
    {
     "name": "stdout",
     "output_type": "stream",
     "text": [
      "Please input your age18\n",
      "<class 'str'>\n",
      "<class 'int'>\n"
     ]
    }
   ],
   "source": [
    "age = input(\"Please input your age\")\n",
    "print(type(age))\n",
    "print(type(int(age)))"
   ]
  },
  {
   "cell_type": "markdown",
   "metadata": {},
   "source": [
    "while循环简介\n",
    "==="
   ]
  },
  {
   "cell_type": "markdown",
   "metadata": {},
   "source": [
    "让用户选择何时退出\n",
    "---\n",
    ">示例：当用户输入'quit'时，退出程序"
   ]
  },
  {
   "cell_type": "code",
   "execution_count": 6,
   "metadata": {},
   "outputs": [
    {
     "name": "stdout",
     "output_type": "stream",
     "text": [
      "\n",
      "Tell me something and I will repeat it back to you:\n",
      "Enter 'quit' to end the programHello\n",
      "Hello\n",
      "\n",
      "Tell me something and I will repeat it back to you:\n",
      "Enter 'quit' to end the programquit\n",
      "quit\n"
     ]
    }
   ],
   "source": [
    "prompt = \"\\nTell me something and I will repeat it back to you:\"\n",
    "prompt += \"\\nEnter 'quit' to end the program\"\n",
    "message = \"\"\n",
    "while message != 'quit':\n",
    "    message = input(prompt)\n",
    "    print(message)"
   ]
  },
  {
   "cell_type": "markdown",
   "metadata": {},
   "source": [
    "使用while循环来处理列表和字典\n",
    "---\n",
    ">for循环是一张遍历列表的有效方式，但是在for循环中不应修改列表，否则将导致Python难以跟踪其中的元素。要在遍历列表的同时对其进行修改，可使用while循环。通过while循环同列表和字典结合起来使用，可收集、存储并组织大量输入，供以后检查和显示。\n",
    "\n",
    "- 在列表之间移动元素\n",
    "- 删除包含特定值的所有列表元素\n",
    "- 使用用户来填充字典"
   ]
  },
  {
   "cell_type": "code",
   "execution_count": 7,
   "metadata": {},
   "outputs": [
    {
     "name": "stdout",
     "output_type": "stream",
     "text": [
      "Verifying user: Candace\n",
      "Verifying user: Brain\n",
      "Verifying user: Alice\n",
      "\n",
      "The following users have beem confirmed: \n",
      "Candace\n",
      "Brain\n",
      "Alice\n"
     ]
    }
   ],
   "source": [
    "#在列表之间移动元素\n",
    "#将一个列表中的元素依次提取到另一个列表中\n",
    "unconfirmed_users = ['alice', 'brain', 'candace']\n",
    "confirmed_users = []\n",
    "\n",
    "while unconfirmed_users:\n",
    "    current_user = unconfirmed_users.pop()\n",
    "    print(\"Verifying user: {}\".format(current_user.title()))\n",
    "    confirmed_users.append(current_user)\n",
    "    \n",
    "print(\"\\nThe following users have beem confirmed: \")\n",
    "for confirmed_user in confirmed_users:\n",
    "    print(confirmed_user.title())"
   ]
  },
  {
   "cell_type": "code",
   "execution_count": 8,
   "metadata": {},
   "outputs": [
    {
     "name": "stdout",
     "output_type": "stream",
     "text": [
      "['dog', 'cat', 'dog', 'goldfish', 'cat']\n",
      "['dog', 'dog', 'goldfish']\n"
     ]
    }
   ],
   "source": [
    "#删除包含特定值的所有列表元素\n",
    "pets = ['dog', 'cat', 'dog', 'goldfish', 'cat']\n",
    "print(pets)\n",
    "\n",
    "while 'cat' in pets:\n",
    "    pets.remove('cat')\n",
    "\n",
    "print(pets)"
   ]
  },
  {
   "cell_type": "code",
   "execution_count": 11,
   "metadata": {},
   "outputs": [
    {
     "name": "stdout",
     "output_type": "stream",
     "text": [
      "\n",
      "What is your name?Kris\n",
      "which montain would you like to climb someday?Tai\n",
      "Would you like to let another person response?(yes/no)yes\n",
      "\n",
      "What is your name?Kevin\n",
      "which montain would you like to climb someday?Haung\n",
      "Would you like to let another person response?(yes/no)no\n",
      "\n",
      "Poll results---------\n",
      "Name: Kris\n",
      "Response: Tai\n",
      "Name: Kevin\n",
      "Response: Haung\n"
     ]
    }
   ],
   "source": [
    "#使用用户输入来填充字典\n",
    "responses = {}\n",
    "\n",
    "polling_active = True\n",
    "\n",
    "while polling_active:\n",
    "    \n",
    "    name = input(\"\\nWhat is your name?\")\n",
    "    response = input(\"which montain would you like to climb someday?\")\n",
    "    \n",
    "    responses[name] = response\n",
    "    \n",
    "    repeat = input(\"Would you like to let another person response?(yes/no)\")\n",
    "    if repeat == 'no':\n",
    "        polling_active = False\n",
    "\n",
    "        \n",
    "print(\"\\nPoll results---------\")\n",
    "for name, response in responses.items():\n",
    "    print(\"Name: {}\".format(name))\n",
    "    print(\"Response: {}\".format(response))"
   ]
  },
  {
   "cell_type": "code",
   "execution_count": null,
   "metadata": {},
   "outputs": [],
   "source": []
  }
 ],
 "metadata": {
  "kernelspec": {
   "display_name": "Python 3",
   "language": "python",
   "name": "python3"
  },
  "language_info": {
   "codemirror_mode": {
    "name": "ipython",
    "version": 3
   },
   "file_extension": ".py",
   "mimetype": "text/x-python",
   "name": "python",
   "nbconvert_exporter": "python",
   "pygments_lexer": "ipython3",
   "version": "3.6.6"
  }
 },
 "nbformat": 4,
 "nbformat_minor": 2
}
